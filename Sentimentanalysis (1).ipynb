{
  "nbformat": 4,
  "nbformat_minor": 0,
  "metadata": {
    "colab": {
      "name": "Sentimentanalysis.ipynb",
      "provenance": [],
      "collapsed_sections": [],
      "toc_visible": true
    },
    "kernelspec": {
      "display_name": "Python 3",
      "name": "python3"
    },
    "language_info": {
      "name": "python"
    }
  },
  "cells": [
    {
      "cell_type": "markdown",
      "metadata": {
        "id": "dKTclZaxWmMM"
      },
      "source": [
        "News Sentiment Analysis-In this project, we have identified the sentiments of heaadlines and title of the news present in the given dataset using NLP.\n"
      ]
    },
    {
      "cell_type": "code",
      "metadata": {
        "id": "iVV-kXyLWm8F"
      },
      "source": [
        "import pandas as pd\n",
        "import numpy as np\n",
        "from scipy.sparse import hstack, csr_matrix\n",
        "from textblob import TextBlob\n",
        "import nltk\n",
        "import re\n",
        "import datetime\n",
        "import math\n",
        "import matplotlib.pyplot as plt\n",
        "from nltk.corpus import stopwords \n",
        "from nltk.tokenize import word_tokenize\n",
        "from nltk.stem import WordNetLemmatizer, PorterStemmer\n",
        "from sklearn.feature_extraction.text import CountVectorizer, TfidfVectorizer\n",
        "from sklearn.preprocessing import LabelEncoder, StandardScaler\n",
        "from sklearn.model_selection import train_test_split\n",
        "from sklearn.decomposition import TruncatedSVD\n",
        "from sklearn.svm import LinearSVR\n",
        "import lightgbm as lgb\n",
        "from sklearn.ensemble import RandomForestRegressor\n",
        "from sklearn.metrics import mean_absolute_error\n",
        "from sklearn.metrics import mean_squared_error\n",
        "from wordcloud import WordCloud, STOPWORDS \n",
        "\n",
        "%matplotlib inline"
      ],
      "execution_count": null,
      "outputs": []
    },
    {
      "cell_type": "code",
      "metadata": {
        "colab": {
          "background_save": true,
          "base_uri": "https://localhost:8080/"
        },
        "id": "d5gN4x1pdtNb",
        "outputId": "0350cd9e-fa77-4e73-806e-7886c1e5b53f"
      },
      "source": [
        "from google.colab import drive \n",
        "drive.mount('/content/drive/')"
      ],
      "execution_count": null,
      "outputs": [
        {
          "output_type": "stream",
          "text": [
            "Mounted at /content/drive/\n"
          ],
          "name": "stdout"
        }
      ]
    },
    {
      "cell_type": "code",
      "metadata": {
        "id": "lz9K5Or4YjZU"
      },
      "source": [
        "train = pd.read_csv('/content/drive/MyDrive/Colab Notebooks/ SA/train_file.csv')\n",
        "test = pd.read_csv('/content/drive/MyDrive/Colab Notebooks/ SA/test_file.csv')\n",
        "test_id = test['IDLink']"
      ],
      "execution_count": null,
      "outputs": []
    },
    {
      "cell_type": "code",
      "metadata": {
        "colab": {
          "base_uri": "https://localhost:8080/",
          "height": 221
        },
        "id": "Td4Af7IAoYEi",
        "outputId": "0b113b34-2739-4728-ccb9-c16e223cde6e"
      },
      "source": [
        "train.head()"
      ],
      "execution_count": null,
      "outputs": [
        {
          "output_type": "execute_result",
          "data": {
            "text/html": [
              "<div>\n",
              "<style scoped>\n",
              "    .dataframe tbody tr th:only-of-type {\n",
              "        vertical-align: middle;\n",
              "    }\n",
              "\n",
              "    .dataframe tbody tr th {\n",
              "        vertical-align: top;\n",
              "    }\n",
              "\n",
              "    .dataframe thead th {\n",
              "        text-align: right;\n",
              "    }\n",
              "</style>\n",
              "<table border=\"1\" class=\"dataframe\">\n",
              "  <thead>\n",
              "    <tr style=\"text-align: right;\">\n",
              "      <th></th>\n",
              "      <th>IDLink</th>\n",
              "      <th>Title</th>\n",
              "      <th>Headline</th>\n",
              "      <th>Source</th>\n",
              "      <th>Topic</th>\n",
              "      <th>PublishDate</th>\n",
              "      <th>Facebook</th>\n",
              "      <th>GooglePlus</th>\n",
              "      <th>LinkedIn</th>\n",
              "      <th>SentimentTitle</th>\n",
              "      <th>SentimentHeadline</th>\n",
              "    </tr>\n",
              "  </thead>\n",
              "  <tbody>\n",
              "    <tr>\n",
              "      <th>0</th>\n",
              "      <td>Tr3CMgRv1N</td>\n",
              "      <td>Obama Lays Wreath at Arlington National Cemetery</td>\n",
              "      <td>Obama Lays Wreath at Arlington National Cemete...</td>\n",
              "      <td>USA TODAY</td>\n",
              "      <td>obama</td>\n",
              "      <td>2002-04-02 00:00:00</td>\n",
              "      <td>-1</td>\n",
              "      <td>-1</td>\n",
              "      <td>-1</td>\n",
              "      <td>0.000000</td>\n",
              "      <td>-0.053300</td>\n",
              "    </tr>\n",
              "    <tr>\n",
              "      <th>1</th>\n",
              "      <td>Wc81vGp8qZ</td>\n",
              "      <td>A Look at the Health of the Chinese Economy</td>\n",
              "      <td>Tim Haywood, investment director business-unit...</td>\n",
              "      <td>Bloomberg</td>\n",
              "      <td>economy</td>\n",
              "      <td>2008-09-20 00:00:00</td>\n",
              "      <td>-1</td>\n",
              "      <td>-1</td>\n",
              "      <td>-1</td>\n",
              "      <td>0.208333</td>\n",
              "      <td>-0.156386</td>\n",
              "    </tr>\n",
              "    <tr>\n",
              "      <th>2</th>\n",
              "      <td>zNGH03CrZH</td>\n",
              "      <td>Nouriel Roubini: Global Economy Not Back to 2008</td>\n",
              "      <td>Nouriel Roubini, NYU professor and chairman at...</td>\n",
              "      <td>Bloomberg</td>\n",
              "      <td>economy</td>\n",
              "      <td>2012-01-28 00:00:00</td>\n",
              "      <td>-1</td>\n",
              "      <td>-1</td>\n",
              "      <td>-1</td>\n",
              "      <td>-0.425210</td>\n",
              "      <td>0.139754</td>\n",
              "    </tr>\n",
              "    <tr>\n",
              "      <th>3</th>\n",
              "      <td>3sM1H0W8ts</td>\n",
              "      <td>Finland GDP Expands In Q4</td>\n",
              "      <td>Finland's economy expanded marginally in the t...</td>\n",
              "      <td>RTT News</td>\n",
              "      <td>economy</td>\n",
              "      <td>2015-03-01 00:06:00</td>\n",
              "      <td>-1</td>\n",
              "      <td>-1</td>\n",
              "      <td>-1</td>\n",
              "      <td>0.000000</td>\n",
              "      <td>0.026064</td>\n",
              "    </tr>\n",
              "    <tr>\n",
              "      <th>4</th>\n",
              "      <td>wUbnxgvqaZ</td>\n",
              "      <td>Tourism, govt spending buoys Thai economy in J...</td>\n",
              "      <td>Tourism and public spending continued to boost...</td>\n",
              "      <td>The Nation - Thailand&amp;#39;s English news</td>\n",
              "      <td>economy</td>\n",
              "      <td>2015-03-01 00:11:00</td>\n",
              "      <td>-1</td>\n",
              "      <td>-1</td>\n",
              "      <td>-1</td>\n",
              "      <td>0.000000</td>\n",
              "      <td>0.141084</td>\n",
              "    </tr>\n",
              "  </tbody>\n",
              "</table>\n",
              "</div>"
            ],
            "text/plain": [
              "       IDLink  ... SentimentHeadline\n",
              "0  Tr3CMgRv1N  ...         -0.053300\n",
              "1  Wc81vGp8qZ  ...         -0.156386\n",
              "2  zNGH03CrZH  ...          0.139754\n",
              "3  3sM1H0W8ts  ...          0.026064\n",
              "4  wUbnxgvqaZ  ...          0.141084\n",
              "\n",
              "[5 rows x 11 columns]"
            ]
          },
          "metadata": {
            "tags": []
          },
          "execution_count": 5
        }
      ]
    },
    {
      "cell_type": "code",
      "metadata": {
        "colab": {
          "base_uri": "https://localhost:8080/",
          "height": 204
        },
        "id": "zl69LrGR3my2",
        "outputId": "fd50a0ba-a6ab-47d8-9a6b-e69e18562390"
      },
      "source": [
        "test.head()"
      ],
      "execution_count": null,
      "outputs": [
        {
          "output_type": "execute_result",
          "data": {
            "text/html": [
              "<div>\n",
              "<style scoped>\n",
              "    .dataframe tbody tr th:only-of-type {\n",
              "        vertical-align: middle;\n",
              "    }\n",
              "\n",
              "    .dataframe tbody tr th {\n",
              "        vertical-align: top;\n",
              "    }\n",
              "\n",
              "    .dataframe thead th {\n",
              "        text-align: right;\n",
              "    }\n",
              "</style>\n",
              "<table border=\"1\" class=\"dataframe\">\n",
              "  <thead>\n",
              "    <tr style=\"text-align: right;\">\n",
              "      <th></th>\n",
              "      <th>IDLink</th>\n",
              "      <th>Title</th>\n",
              "      <th>Headline</th>\n",
              "      <th>Source</th>\n",
              "      <th>Topic</th>\n",
              "      <th>PublishDate</th>\n",
              "      <th>Facebook</th>\n",
              "      <th>GooglePlus</th>\n",
              "      <th>LinkedIn</th>\n",
              "    </tr>\n",
              "  </thead>\n",
              "  <tbody>\n",
              "    <tr>\n",
              "      <th>0</th>\n",
              "      <td>tFrqIR6Chj</td>\n",
              "      <td>Sliding Economy: FG fights back with N3trn TSA...</td>\n",
              "      <td>With the 2016 budget now passed by the Nationa...</td>\n",
              "      <td>BusinessDay</td>\n",
              "      <td>economy</td>\n",
              "      <td>2016-03-29 01:41:12</td>\n",
              "      <td>0</td>\n",
              "      <td>0</td>\n",
              "      <td>1</td>\n",
              "    </tr>\n",
              "    <tr>\n",
              "      <th>1</th>\n",
              "      <td>DVAaGErjlF</td>\n",
              "      <td>Microsoft shows how HoloLens can bring distant...</td>\n",
              "      <td>A recent Microsoft Research video shows how th...</td>\n",
              "      <td>Daily Mail</td>\n",
              "      <td>microsoft</td>\n",
              "      <td>2016-03-29 01:41:27</td>\n",
              "      <td>121</td>\n",
              "      <td>2</td>\n",
              "      <td>13</td>\n",
              "    </tr>\n",
              "    <tr>\n",
              "      <th>2</th>\n",
              "      <td>OT9UIZm5M2</td>\n",
              "      <td>Microsoft’s Twitter Robot Praises Hitler, Trum...</td>\n",
              "      <td>* Microsoft teamed with Bing to create TayTwee...</td>\n",
              "      <td>EURweb</td>\n",
              "      <td>microsoft</td>\n",
              "      <td>2016-03-29 01:47:00</td>\n",
              "      <td>12</td>\n",
              "      <td>1</td>\n",
              "      <td>0</td>\n",
              "    </tr>\n",
              "    <tr>\n",
              "      <th>3</th>\n",
              "      <td>lflGp3q2Fj</td>\n",
              "      <td>Flood of Central Bank Moves Can't Get World Ec...</td>\n",
              "      <td>Central bankers have managed to steer the worl...</td>\n",
              "      <td>Bloomberg via Yahoo! Finance</td>\n",
              "      <td>economy</td>\n",
              "      <td>2016-03-29 02:00:00</td>\n",
              "      <td>0</td>\n",
              "      <td>0</td>\n",
              "      <td>3</td>\n",
              "    </tr>\n",
              "    <tr>\n",
              "      <th>4</th>\n",
              "      <td>zDYG0SoovZ</td>\n",
              "      <td>USD/JPY: bears lining up on mixed U.S. economy...</td>\n",
              "      <td>However, this streak of seven-day gains might ...</td>\n",
              "      <td>FXStreet</td>\n",
              "      <td>economy</td>\n",
              "      <td>2016-03-29 02:01:07</td>\n",
              "      <td>3</td>\n",
              "      <td>0</td>\n",
              "      <td>0</td>\n",
              "    </tr>\n",
              "  </tbody>\n",
              "</table>\n",
              "</div>"
            ],
            "text/plain": [
              "       IDLink  ... LinkedIn\n",
              "0  tFrqIR6Chj  ...        1\n",
              "1  DVAaGErjlF  ...       13\n",
              "2  OT9UIZm5M2  ...        0\n",
              "3  lflGp3q2Fj  ...        3\n",
              "4  zDYG0SoovZ  ...        0\n",
              "\n",
              "[5 rows x 9 columns]"
            ]
          },
          "metadata": {
            "tags": []
          },
          "execution_count": 6
        }
      ]
    },
    {
      "cell_type": "code",
      "metadata": {
        "colab": {
          "base_uri": "https://localhost:8080/"
        },
        "id": "b8CiqbiiodZh",
        "outputId": "fcd3397e-c443-4895-87c0-e14ebc9c3a9d"
      },
      "source": [
        "train.info()"
      ],
      "execution_count": null,
      "outputs": [
        {
          "output_type": "stream",
          "text": [
            "<class 'pandas.core.frame.DataFrame'>\n",
            "RangeIndex: 55932 entries, 0 to 55931\n",
            "Data columns (total 11 columns):\n",
            " #   Column             Non-Null Count  Dtype  \n",
            "---  ------             --------------  -----  \n",
            " 0   IDLink             55932 non-null  object \n",
            " 1   Title              55932 non-null  object \n",
            " 2   Headline           55932 non-null  object \n",
            " 3   Source             55757 non-null  object \n",
            " 4   Topic              55932 non-null  object \n",
            " 5   PublishDate        55932 non-null  object \n",
            " 6   Facebook           55932 non-null  int64  \n",
            " 7   GooglePlus         55932 non-null  int64  \n",
            " 8   LinkedIn           55932 non-null  int64  \n",
            " 9   SentimentTitle     55932 non-null  float64\n",
            " 10  SentimentHeadline  55932 non-null  float64\n",
            "dtypes: float64(2), int64(3), object(6)\n",
            "memory usage: 4.7+ MB\n"
          ],
          "name": "stdout"
        }
      ]
    },
    {
      "cell_type": "code",
      "metadata": {
        "colab": {
          "base_uri": "https://localhost:8080/",
          "height": 282
        },
        "id": "xQxZKXhsoiMx",
        "outputId": "447eab5b-c589-4e9c-95e0-0320f73b7f06"
      },
      "source": [
        "train.describe()"
      ],
      "execution_count": null,
      "outputs": [
        {
          "output_type": "execute_result",
          "data": {
            "text/html": [
              "<div>\n",
              "<style scoped>\n",
              "    .dataframe tbody tr th:only-of-type {\n",
              "        vertical-align: middle;\n",
              "    }\n",
              "\n",
              "    .dataframe tbody tr th {\n",
              "        vertical-align: top;\n",
              "    }\n",
              "\n",
              "    .dataframe thead th {\n",
              "        text-align: right;\n",
              "    }\n",
              "</style>\n",
              "<table border=\"1\" class=\"dataframe\">\n",
              "  <thead>\n",
              "    <tr style=\"text-align: right;\">\n",
              "      <th></th>\n",
              "      <th>Facebook</th>\n",
              "      <th>GooglePlus</th>\n",
              "      <th>LinkedIn</th>\n",
              "      <th>SentimentTitle</th>\n",
              "      <th>SentimentHeadline</th>\n",
              "    </tr>\n",
              "  </thead>\n",
              "  <tbody>\n",
              "    <tr>\n",
              "      <th>count</th>\n",
              "      <td>55932.000000</td>\n",
              "      <td>55932.000000</td>\n",
              "      <td>55932.000000</td>\n",
              "      <td>55932.000000</td>\n",
              "      <td>55932.000000</td>\n",
              "    </tr>\n",
              "    <tr>\n",
              "      <th>mean</th>\n",
              "      <td>132.050329</td>\n",
              "      <td>4.551616</td>\n",
              "      <td>14.300132</td>\n",
              "      <td>-0.006318</td>\n",
              "      <td>-0.029577</td>\n",
              "    </tr>\n",
              "    <tr>\n",
              "      <th>std</th>\n",
              "      <td>722.931314</td>\n",
              "      <td>21.137177</td>\n",
              "      <td>76.651420</td>\n",
              "      <td>0.137569</td>\n",
              "      <td>0.143038</td>\n",
              "    </tr>\n",
              "    <tr>\n",
              "      <th>min</th>\n",
              "      <td>-1.000000</td>\n",
              "      <td>-1.000000</td>\n",
              "      <td>-1.000000</td>\n",
              "      <td>-0.838525</td>\n",
              "      <td>-0.755355</td>\n",
              "    </tr>\n",
              "    <tr>\n",
              "      <th>25%</th>\n",
              "      <td>0.000000</td>\n",
              "      <td>0.000000</td>\n",
              "      <td>0.000000</td>\n",
              "      <td>-0.079057</td>\n",
              "      <td>-0.116927</td>\n",
              "    </tr>\n",
              "    <tr>\n",
              "      <th>50%</th>\n",
              "      <td>6.000000</td>\n",
              "      <td>0.000000</td>\n",
              "      <td>0.000000</td>\n",
              "      <td>0.000000</td>\n",
              "      <td>-0.027277</td>\n",
              "    </tr>\n",
              "    <tr>\n",
              "      <th>75%</th>\n",
              "      <td>37.000000</td>\n",
              "      <td>2.000000</td>\n",
              "      <td>4.000000</td>\n",
              "      <td>0.063969</td>\n",
              "      <td>0.057354</td>\n",
              "    </tr>\n",
              "    <tr>\n",
              "      <th>max</th>\n",
              "      <td>49211.000000</td>\n",
              "      <td>1267.000000</td>\n",
              "      <td>3716.000000</td>\n",
              "      <td>0.962354</td>\n",
              "      <td>0.964646</td>\n",
              "    </tr>\n",
              "  </tbody>\n",
              "</table>\n",
              "</div>"
            ],
            "text/plain": [
              "           Facebook    GooglePlus  ...  SentimentTitle  SentimentHeadline\n",
              "count  55932.000000  55932.000000  ...    55932.000000       55932.000000\n",
              "mean     132.050329      4.551616  ...       -0.006318          -0.029577\n",
              "std      722.931314     21.137177  ...        0.137569           0.143038\n",
              "min       -1.000000     -1.000000  ...       -0.838525          -0.755355\n",
              "25%        0.000000      0.000000  ...       -0.079057          -0.116927\n",
              "50%        6.000000      0.000000  ...        0.000000          -0.027277\n",
              "75%       37.000000      2.000000  ...        0.063969           0.057354\n",
              "max    49211.000000   1267.000000  ...        0.962354           0.964646\n",
              "\n",
              "[8 rows x 5 columns]"
            ]
          },
          "metadata": {
            "tags": []
          },
          "execution_count": 13
        }
      ]
    },
    {
      "cell_type": "code",
      "metadata": {
        "colab": {
          "base_uri": "https://localhost:8080/"
        },
        "id": "uevOB3yupe08",
        "outputId": "d7f3e9e5-2360-451d-f585-bcad1bbcbabc"
      },
      "source": [
        "train.isnull().sum()"
      ],
      "execution_count": null,
      "outputs": [
        {
          "output_type": "execute_result",
          "data": {
            "text/plain": [
              "IDLink                 0\n",
              "Title                  0\n",
              "Headline               0\n",
              "Source               175\n",
              "Topic                  0\n",
              "PublishDate            0\n",
              "Facebook               0\n",
              "GooglePlus             0\n",
              "LinkedIn               0\n",
              "SentimentTitle         0\n",
              "SentimentHeadline      0\n",
              "dtype: int64"
            ]
          },
          "metadata": {
            "tags": []
          },
          "execution_count": 14
        }
      ]
    },
    {
      "cell_type": "code",
      "metadata": {
        "colab": {
          "base_uri": "https://localhost:8080/"
        },
        "id": "9miRe_GMpkEc",
        "outputId": "de4a7b74-a35f-4f98-e838-b8c933a415aa"
      },
      "source": [
        "test.isnull().sum()"
      ],
      "execution_count": null,
      "outputs": [
        {
          "output_type": "execute_result",
          "data": {
            "text/plain": [
              "IDLink           0\n",
              "Title            0\n",
              "Headline         0\n",
              "Source         101\n",
              "Topic            0\n",
              "PublishDate      0\n",
              "Facebook         0\n",
              "GooglePlus       0\n",
              "LinkedIn         0\n",
              "dtype: int64"
            ]
          },
          "metadata": {
            "tags": []
          },
          "execution_count": 15
        }
      ]
    },
    {
      "cell_type": "code",
      "metadata": {
        "colab": {
          "base_uri": "https://localhost:8080/"
        },
        "id": "4LqRO1r3poaq",
        "outputId": "8c56a10e-4c74-4d2f-d5ea-face6a4d8580"
      },
      "source": [
        "train['Source'].value_counts()[:5]"
      ],
      "execution_count": null,
      "outputs": [
        {
          "output_type": "execute_result",
          "data": {
            "text/plain": [
              "Bloomberg         1167\n",
              "Reuters            763\n",
              "ABC News           645\n",
              "New York Times     573\n",
              "The Guardian       551\n",
              "Name: Source, dtype: int64"
            ]
          },
          "metadata": {
            "tags": []
          },
          "execution_count": 16
        }
      ]
    },
    {
      "cell_type": "code",
      "metadata": {
        "id": "GDMP2ks7qcFV"
      },
      "source": [
        "train['Source'] = train['Source'].fillna('Bloomberg')\n",
        "test['Source'] = test['Source'].fillna('Bloomberg')"
      ],
      "execution_count": null,
      "outputs": []
    },
    {
      "cell_type": "code",
      "metadata": {
        "colab": {
          "base_uri": "https://localhost:8080/"
        },
        "id": "1XLhrMXQqooe",
        "outputId": "44991463-2f08-4bdc-c9b0-2fd4306a65c7"
      },
      "source": [
        "nltk.download('stopwords')\n",
        "nltk.download('punkt')\n",
        "nltk.download('wordnet')\n",
        "\n",
        "stop = set(stopwords.words('english'))\n",
        "\n",
        "def clean(text):\n",
        "  text_token = word_tokenize(text)\n",
        "  filtered_text = ' '.join([w.lower() for w in text_token if w.lower() not in stop and len(w) > 2])\n",
        "  filtered_text = filtered_text.replace(r\"[^a-zA-Z]+\", '')\n",
        "  text_only = re.sub(r'\\b\\d+\\b', '', filtered_text)\n",
        "  clean_text = text_only.replace(',', '').replace('.', '').replace(':', '')\n",
        "  return clean_text"
      ],
      "execution_count": null,
      "outputs": [
        {
          "output_type": "stream",
          "text": [
            "[nltk_data] Downloading package stopwords to /root/nltk_data...\n",
            "[nltk_data]   Unzipping corpora/stopwords.zip.\n",
            "[nltk_data] Downloading package punkt to /root/nltk_data...\n",
            "[nltk_data]   Unzipping tokenizers/punkt.zip.\n",
            "[nltk_data] Downloading package wordnet to /root/nltk_data...\n",
            "[nltk_data]   Unzipping corpora/wordnet.zip.\n"
          ],
          "name": "stdout"
        }
      ]
    },
    {
      "cell_type": "code",
      "metadata": {
        "id": "zgP5H4FhqtFI"
      },
      "source": [
        "train['Text_Title'] = train['Title'] + ' ' + train['Source'] + ' ' + train['Topic']\n",
        "test['Text_Title'] = test['Title'] + ' ' + test['Source'] + ' ' + test['Topic']\n",
        "\n",
        "train['Text_Headline'] = train['Headline'] + ' ' + train['Source'] + ' ' + train['Topic']\n",
        "test['Text_Headline'] = test['Headline'] + ' ' + test['Source'] + ' ' + test['Topic']"
      ],
      "execution_count": null,
      "outputs": []
    },
    {
      "cell_type": "code",
      "metadata": {
        "colab": {
          "base_uri": "https://localhost:8080/",
          "height": 35
        },
        "id": "js8sE7-Rq4Rc",
        "outputId": "21d30b89-c8fe-4c37-c2f6-02bae728bc1d"
      },
      "source": [
        "train['Text_Title'][4]"
      ],
      "execution_count": null,
      "outputs": [
        {
          "output_type": "execute_result",
          "data": {
            "application/vnd.google.colaboratory.intrinsic+json": {
              "type": "string"
            },
            "text/plain": [
              "'Tourism, govt spending buoys Thai economy in January The Nation - Thailand&#39;s English news economy'"
            ]
          },
          "metadata": {
            "tags": []
          },
          "execution_count": 7
        }
      ]
    },
    {
      "cell_type": "code",
      "metadata": {
        "colab": {
          "base_uri": "https://localhost:8080/"
        },
        "id": "vMtWMbCG7Otg",
        "outputId": "bebf2cfa-0d27-4072-f52c-d616b82bd058"
      },
      "source": [
        "train['Text_Title'].head()"
      ],
      "execution_count": null,
      "outputs": [
        {
          "output_type": "execute_result",
          "data": {
            "text/plain": [
              "0    Obama Lays Wreath at Arlington National Cemete...\n",
              "1    A Look at the Health of the Chinese Economy Bl...\n",
              "2    Nouriel Roubini: Global Economy Not Back to 20...\n",
              "3           Finland GDP Expands In Q4 RTT News economy\n",
              "4    Tourism, govt spending buoys Thai economy in J...\n",
              "Name: Text_Title, dtype: object"
            ]
          },
          "metadata": {
            "tags": []
          },
          "execution_count": 16
        }
      ]
    },
    {
      "cell_type": "code",
      "metadata": {
        "id": "DR3uDdAfq8U-"
      },
      "source": [
        "train['Text_Title'] = [clean(x) for x in train['Text_Title']]\n",
        "test['Text_Title'] = [clean(x) for x in test['Text_Title']]\n",
        "\n",
        "train['Text_Headline'] = [clean(x) for x in train['Text_Headline']]\n",
        "test['Text_Headline'] = [clean(x) for x in test['Text_Headline']]"
      ],
      "execution_count": null,
      "outputs": []
    },
    {
      "cell_type": "code",
      "metadata": {
        "colab": {
          "base_uri": "https://localhost:8080/"
        },
        "id": "E0-7Udj77gkM",
        "outputId": "0c8d1188-0141-43d3-df36-37c1f78a12d0"
      },
      "source": [
        "train['Text_Title'].head()"
      ],
      "execution_count": null,
      "outputs": [
        {
          "output_type": "execute_result",
          "data": {
            "text/plain": [
              "0    obama lays wreath arlington national cemetery ...\n",
              "1        look health chinese economy bloomberg economy\n",
              "2    nouriel roubini global economy back  bloomberg...\n",
              "3                 finland gdp expands rtt news economy\n",
              "4    tourism govt spending buoys thai economy janua...\n",
              "Name: Text_Title, dtype: object"
            ]
          },
          "metadata": {
            "tags": []
          },
          "execution_count": 8
        }
      ]
    },
    {
      "cell_type": "code",
      "metadata": {
        "id": "L92DJmaprLa9"
      },
      "source": [
        "vectorizer = TfidfVectorizer(use_idf=True)\n",
        "\n",
        "train_v_Title = vectorizer.fit_transform(train['Text_Title'])\n",
        "test_v_Title = vectorizer.transform(test['Text_Title'])\n",
        "\n",
        "vectorizer_ = TfidfVectorizer()\n",
        "\n",
        "train_v_Headline = vectorizer_.fit_transform(train['Text_Headline'])\n",
        "test_v_Headline = vectorizer_.transform(test['Text_Headline'])"
      ],
      "execution_count": null,
      "outputs": []
    },
    {
      "cell_type": "code",
      "metadata": {
        "id": "hLmGnEBKOCo5"
      },
      "source": [
        "count_tokens=vectorizer.get_feature_names()"
      ],
      "execution_count": null,
      "outputs": []
    },
    {
      "cell_type": "code",
      "metadata": {
        "colab": {
          "base_uri": "https://localhost:8080/"
        },
        "id": "ttwYuCXj9UKd",
        "outputId": "ba17b4e1-6c98-41cd-b526-997711145a9a"
      },
      "source": [
        "train_v_Title[0].toarray()"
      ],
      "execution_count": null,
      "outputs": [
        {
          "output_type": "execute_result",
          "data": {
            "text/plain": [
              "array([[0., 0., 0., ..., 0., 0., 0.]])"
            ]
          },
          "metadata": {
            "tags": []
          },
          "execution_count": 37
        }
      ]
    },
    {
      "cell_type": "code",
      "metadata": {
        "colab": {
          "base_uri": "https://localhost:8080/",
          "height": 129
        },
        "id": "8FMXuR-NTnRw",
        "outputId": "94a727d5-2e35-4289-8f0f-76aab6e8cb38"
      },
      "source": [
        "df_tfidf_vect=pd.DataFrame(data=train_v_Title[9999].toarray(),columns=count_tokens)\n",
        "df_tfidf_vect"
      ],
      "execution_count": null,
      "outputs": [
        {
          "output_type": "execute_result",
          "data": {
            "text/html": [
              "<div>\n",
              "<style scoped>\n",
              "    .dataframe tbody tr th:only-of-type {\n",
              "        vertical-align: middle;\n",
              "    }\n",
              "\n",
              "    .dataframe tbody tr th {\n",
              "        vertical-align: top;\n",
              "    }\n",
              "\n",
              "    .dataframe thead th {\n",
              "        text-align: right;\n",
              "    }\n",
              "</style>\n",
              "<table border=\"1\" class=\"dataframe\">\n",
              "  <thead>\n",
              "    <tr style=\"text-align: right;\">\n",
              "      <th></th>\n",
              "      <th>00pm</th>\n",
              "      <th>100b</th>\n",
              "      <th>100bln</th>\n",
              "      <th>100bn</th>\n",
              "      <th>100k</th>\n",
              "      <th>100m</th>\n",
              "      <th>100s</th>\n",
              "      <th>100th</th>\n",
              "      <th>102m</th>\n",
              "      <th>1080p</th>\n",
              "      <th>10b</th>\n",
              "      <th>10g</th>\n",
              "      <th>10th</th>\n",
              "      <th>10tv</th>\n",
              "      <th>110b</th>\n",
              "      <th>116m</th>\n",
              "      <th>11bn</th>\n",
              "      <th>11th</th>\n",
              "      <th>120bn</th>\n",
              "      <th>123m</th>\n",
              "      <th>123rd</th>\n",
              "      <th>125k</th>\n",
              "      <th>125m</th>\n",
              "      <th>128gb</th>\n",
              "      <th>12am</th>\n",
              "      <th>12b</th>\n",
              "      <th>12bn</th>\n",
              "      <th>12k</th>\n",
              "      <th>12newscom</th>\n",
              "      <th>12newsnowcom</th>\n",
              "      <th>131m</th>\n",
              "      <th>138th</th>\n",
              "      <th>13abc</th>\n",
              "      <th>13b</th>\n",
              "      <th>13billion</th>\n",
              "      <th>13m</th>\n",
              "      <th>13mn</th>\n",
              "      <th>13newsnowcom</th>\n",
              "      <th>13th</th>\n",
              "      <th>13wmaz</th>\n",
              "      <th>...</th>\n",
              "      <th>zim</th>\n",
              "      <th>zimbabwe</th>\n",
              "      <th>zimbabwean</th>\n",
              "      <th>zimbabwecom</th>\n",
              "      <th>zimeye</th>\n",
              "      <th>zimmerman</th>\n",
              "      <th>zing</th>\n",
              "      <th>zings</th>\n",
              "      <th>zinox</th>\n",
              "      <th>zion</th>\n",
              "      <th>zionaire</th>\n",
              "      <th>zionism</th>\n",
              "      <th>zionist</th>\n",
              "      <th>zionists</th>\n",
              "      <th>zionsville</th>\n",
              "      <th>zipcar</th>\n",
              "      <th>zloty</th>\n",
              "      <th>zogby</th>\n",
              "      <th>zolmax</th>\n",
              "      <th>zolv</th>\n",
              "      <th>zomato</th>\n",
              "      <th>zombie</th>\n",
              "      <th>zombies</th>\n",
              "      <th>zone</th>\n",
              "      <th>zones</th>\n",
              "      <th>zoning</th>\n",
              "      <th>zoo</th>\n",
              "      <th>zoom</th>\n",
              "      <th>zoomers</th>\n",
              "      <th>zoos</th>\n",
              "      <th>zuckerberg</th>\n",
              "      <th>zum</th>\n",
              "      <th>zuma</th>\n",
              "      <th>zumba</th>\n",
              "      <th>zunar</th>\n",
              "      <th>zune</th>\n",
              "      <th>zurbruegg</th>\n",
              "      <th>zvezda</th>\n",
              "      <th>zwane</th>\n",
              "      <th>zyoud</th>\n",
              "    </tr>\n",
              "  </thead>\n",
              "  <tbody>\n",
              "    <tr>\n",
              "      <th>0</th>\n",
              "      <td>0.0</td>\n",
              "      <td>0.0</td>\n",
              "      <td>0.0</td>\n",
              "      <td>0.0</td>\n",
              "      <td>0.0</td>\n",
              "      <td>0.0</td>\n",
              "      <td>0.0</td>\n",
              "      <td>0.0</td>\n",
              "      <td>0.0</td>\n",
              "      <td>0.0</td>\n",
              "      <td>0.0</td>\n",
              "      <td>0.0</td>\n",
              "      <td>0.0</td>\n",
              "      <td>0.0</td>\n",
              "      <td>0.0</td>\n",
              "      <td>0.0</td>\n",
              "      <td>0.0</td>\n",
              "      <td>0.0</td>\n",
              "      <td>0.0</td>\n",
              "      <td>0.0</td>\n",
              "      <td>0.0</td>\n",
              "      <td>0.0</td>\n",
              "      <td>0.0</td>\n",
              "      <td>0.0</td>\n",
              "      <td>0.0</td>\n",
              "      <td>0.0</td>\n",
              "      <td>0.0</td>\n",
              "      <td>0.0</td>\n",
              "      <td>0.0</td>\n",
              "      <td>0.0</td>\n",
              "      <td>0.0</td>\n",
              "      <td>0.0</td>\n",
              "      <td>0.0</td>\n",
              "      <td>0.0</td>\n",
              "      <td>0.0</td>\n",
              "      <td>0.0</td>\n",
              "      <td>0.0</td>\n",
              "      <td>0.0</td>\n",
              "      <td>0.0</td>\n",
              "      <td>0.0</td>\n",
              "      <td>...</td>\n",
              "      <td>0.0</td>\n",
              "      <td>0.0</td>\n",
              "      <td>0.0</td>\n",
              "      <td>0.0</td>\n",
              "      <td>0.0</td>\n",
              "      <td>0.0</td>\n",
              "      <td>0.0</td>\n",
              "      <td>0.0</td>\n",
              "      <td>0.0</td>\n",
              "      <td>0.0</td>\n",
              "      <td>0.0</td>\n",
              "      <td>0.0</td>\n",
              "      <td>0.0</td>\n",
              "      <td>0.0</td>\n",
              "      <td>0.0</td>\n",
              "      <td>0.0</td>\n",
              "      <td>0.0</td>\n",
              "      <td>0.0</td>\n",
              "      <td>0.0</td>\n",
              "      <td>0.0</td>\n",
              "      <td>0.0</td>\n",
              "      <td>0.0</td>\n",
              "      <td>0.0</td>\n",
              "      <td>0.0</td>\n",
              "      <td>0.0</td>\n",
              "      <td>0.0</td>\n",
              "      <td>0.0</td>\n",
              "      <td>0.0</td>\n",
              "      <td>0.0</td>\n",
              "      <td>0.0</td>\n",
              "      <td>0.0</td>\n",
              "      <td>0.0</td>\n",
              "      <td>0.0</td>\n",
              "      <td>0.0</td>\n",
              "      <td>0.0</td>\n",
              "      <td>0.0</td>\n",
              "      <td>0.0</td>\n",
              "      <td>0.0</td>\n",
              "      <td>0.0</td>\n",
              "      <td>0.0</td>\n",
              "    </tr>\n",
              "  </tbody>\n",
              "</table>\n",
              "<p>1 rows × 25377 columns</p>\n",
              "</div>"
            ],
            "text/plain": [
              "   00pm  100b  100bln  100bn  100k  ...  zune  zurbruegg  zvezda  zwane  zyoud\n",
              "0   0.0   0.0     0.0    0.0   0.0  ...   0.0        0.0     0.0    0.0    0.0\n",
              "\n",
              "[1 rows x 25377 columns]"
            ]
          },
          "metadata": {
            "tags": []
          },
          "execution_count": 11
        }
      ]
    },
    {
      "cell_type": "code",
      "metadata": {
        "id": "rEhwt_35rwp3"
      },
      "source": [
        "train['polarity_t'] = train['Title'].apply(lambda x: TextBlob(x).sentiment.polarity)\n",
        "test['polarity_t'] = test['Title'].apply(lambda x: TextBlob(x).sentiment.polarity)\n",
        "\n",
        "train['subjectivity_t'] = train['Title'].apply(lambda x: TextBlob(x).sentiment.subjectivity)\n",
        "test['subjectivity_t'] = test['Title'].apply(lambda x: TextBlob(x).sentiment.subjectivity)"
      ],
      "execution_count": null,
      "outputs": []
    },
    {
      "cell_type": "code",
      "metadata": {
        "colab": {
          "base_uri": "https://localhost:8080/"
        },
        "id": "jYQQXPApYVWs",
        "outputId": "21f149a5-9ec0-48c2-a351-005e7ca0b310"
      },
      "source": [
        "train['polarity_t'].head()"
      ],
      "execution_count": null,
      "outputs": [
        {
          "output_type": "execute_result",
          "data": {
            "text/plain": [
              "0    0.0\n",
              "1    0.0\n",
              "2    0.0\n",
              "3    0.0\n",
              "4    0.0\n",
              "Name: polarity_t, dtype: float64"
            ]
          },
          "metadata": {
            "tags": []
          },
          "execution_count": 13
        }
      ]
    },
    {
      "cell_type": "code",
      "metadata": {
        "id": "zZ1qnA81siHG"
      },
      "source": [
        "train['polarity_h'] = train['Headline'].apply(lambda x: TextBlob(x).sentiment.polarity)\n",
        "test['polarity_h'] = test['Headline'].apply(lambda x: TextBlob(x).sentiment.polarity)\n",
        "\n",
        "train['subjectivity_h'] = train['Headline'].apply(lambda x: TextBlob(x).sentiment.subjectivity)\n",
        "test['subjectivity_h'] = test['Headline'].apply(lambda x: TextBlob(x).sentiment.subjectivity)"
      ],
      "execution_count": null,
      "outputs": []
    },
    {
      "cell_type": "code",
      "metadata": {
        "id": "03-UBQPatevg"
      },
      "source": [
        "encoder = LabelEncoder()\n",
        "\n",
        "train['Topic'] = encoder.fit_transform(train['Topic'])\n",
        "test['Topic'] = encoder.transform(test['Topic'])\n",
        "\n",
        "total = train['Source'].to_list() + test['Source'].to_list()\n",
        "total = encoder.fit_transform(total)\n",
        "train['Source'] = encoder.transform(train['Source'])\n",
        "test['Source'] = encoder.transform(test['Source'])"
      ],
      "execution_count": null,
      "outputs": []
    },
    {
      "cell_type": "code",
      "metadata": {
        "colab": {
          "base_uri": "https://localhost:8080/"
        },
        "id": "EyC2wBcXa8KL",
        "outputId": "a3f7e0f4-1156-498e-b794-b3d24093b68a"
      },
      "source": [
        "train['Topic'].head()"
      ],
      "execution_count": null,
      "outputs": [
        {
          "output_type": "execute_result",
          "data": {
            "text/plain": [
              "0    2\n",
              "1    0\n",
              "2    0\n",
              "3    0\n",
              "4    0\n",
              "Name: Topic, dtype: int64"
            ]
          },
          "metadata": {
            "tags": []
          },
          "execution_count": 20
        }
      ]
    },
    {
      "cell_type": "code",
      "metadata": {
        "id": "0hIXyjA0tm0N"
      },
      "source": [
        "train_weekday = []\n",
        "test_weekday = []\n",
        "\n",
        "for i in train['PublishDate']:\n",
        "    train_weekday.append(datetime.datetime.strptime(i, \"%Y-%m-%d %H:%M:%S\").strftime(\"%A\"))\n",
        "    \n",
        "for i in test['PublishDate']:\n",
        "    test_weekday.append(datetime.datetime.strptime(i, \"%Y-%m-%d %H:%M:%S\").strftime(\"%A\"))\n",
        "\n",
        "train['weekday'] = train_weekday\n",
        "test['weekday'] = test_weekday\n",
        "\n",
        "\n",
        "# convert weekday to 0-6\n",
        "\n",
        "train['weekday'] = train['weekday'].map({'Monday': 0,\n",
        "                                        'Tuesday': 1,\n",
        "                                        'Wednesday': 2,\n",
        "                                        'Thursday': 3,\n",
        "                                        'Friday': 4,\n",
        "                                        'Saturday': 5,\n",
        "                                        'Sunday': 6})\n",
        "test['weekday'] = test['weekday'].map({'Monday': 0,\n",
        "                                        'Tuesday': 1,\n",
        "                                        'Wednesday': 2,\n",
        "                                        'Thursday': 3,\n",
        "                                        'Friday': 4,\n",
        "                                        'Saturday': 5,\n",
        "                                        'Sunday': 6})"
      ],
      "execution_count": null,
      "outputs": []
    },
    {
      "cell_type": "code",
      "metadata": {
        "colab": {
          "base_uri": "https://localhost:8080/"
        },
        "id": "6rapMsrndlcN",
        "outputId": "9151b00b-e0b0-4eba-b498-d73ddf0ad52b"
      },
      "source": [
        "train['weekday']"
      ],
      "execution_count": null,
      "outputs": [
        {
          "output_type": "execute_result",
          "data": {
            "text/plain": [
              "0        1\n",
              "1        5\n",
              "2        5\n",
              "3        6\n",
              "4        6\n",
              "        ..\n",
              "55927    1\n",
              "55928    1\n",
              "55929    1\n",
              "55930    1\n",
              "55931    1\n",
              "Name: weekday, Length: 55932, dtype: int64"
            ]
          },
          "metadata": {
            "tags": []
          },
          "execution_count": 19
        }
      ]
    },
    {
      "cell_type": "code",
      "metadata": {
        "id": "w7xuizsItqua"
      },
      "source": [
        "train[\"hour\"] = train[\"PublishDate\"].apply(lambda x: x.split()[1].split(':')[0])\n",
        "test[\"hour\"] = test[\"PublishDate\"].apply(lambda x: x.split()[1].split(':')[0])"
      ],
      "execution_count": null,
      "outputs": []
    },
    {
      "cell_type": "code",
      "metadata": {
        "colab": {
          "base_uri": "https://localhost:8080/"
        },
        "id": "xMJlz3cdhFdq",
        "outputId": "7103e011-d56b-419c-8a7e-02b4d1a17ef4"
      },
      "source": [
        "train['hour']"
      ],
      "execution_count": null,
      "outputs": [
        {
          "output_type": "execute_result",
          "data": {
            "text/plain": [
              "0        00\n",
              "1        00\n",
              "2        00\n",
              "3        00\n",
              "4        00\n",
              "         ..\n",
              "55927    01\n",
              "55928    01\n",
              "55929    01\n",
              "55930    01\n",
              "55931    01\n",
              "Name: hour, Length: 55932, dtype: object"
            ]
          },
          "metadata": {
            "tags": []
          },
          "execution_count": 25
        }
      ]
    },
    {
      "cell_type": "code",
      "metadata": {
        "colab": {
          "base_uri": "https://localhost:8080/",
          "height": 296
        },
        "id": "5oYnsOwitwEY",
        "outputId": "06ebb8de-9c1c-4db0-c6b0-37b17bd50c63"
      },
      "source": [
        "plt.scatter(train['hour'], train['SentimentTitle'])\n",
        "plt.xlabel('hour')\n",
        "plt.ylabel('SentimentTitle')"
      ],
      "execution_count": null,
      "outputs": [
        {
          "output_type": "execute_result",
          "data": {
            "text/plain": [
              "Text(0, 0.5, 'SentimentTitle')"
            ]
          },
          "metadata": {
            "tags": []
          },
          "execution_count": 18
        },
        {
          "output_type": "display_data",
          "data": {
            "image/png": "[encoded data removed]",
            "text/plain": [
              "<Figure size 432x288 with 1 Axes>"
            ]
          },
          "metadata": {
            "tags": []
          }
        }
      ]
    },
    {
      "cell_type": "code",
      "metadata": {
        "colab": {
          "base_uri": "https://localhost:8080/",
          "height": 296
        },
        "id": "XLzxUtnUt1p8",
        "outputId": "2f9700b4-abd9-4817-f3bc-d596fdd9f8bc"
      },
      "source": [
        "# hour distribution of SentimentHeadline\n",
        "\n",
        "plt.scatter(train['hour'], train['SentimentHeadline'])\n",
        "plt.xlabel('hour')\n",
        "plt.ylabel('SentimentHeadline')"
      ],
      "execution_count": null,
      "outputs": [
        {
          "output_type": "execute_result",
          "data": {
            "text/plain": [
              "Text(0, 0.5, 'SentimentHeadline')"
            ]
          },
          "metadata": {
            "tags": []
          },
          "execution_count": 19
        },
        {
          "output_type": "display_data",
          "data": {
            "image/png": "[encoded data removed]",
            "text/plain": [
              "<Figure size 432x288 with 1 Axes>"
            ]
          },
          "metadata": {
            "tags": []
          }
        }
      ]
    },
    {
      "cell_type": "code",
      "metadata": {
        "colab": {
          "base_uri": "https://localhost:8080/",
          "height": 297
        },
        "id": "2ZuZyUvUunEb",
        "outputId": "61296117-ff13-4044-b59e-b2a3d5e215fc"
      },
      "source": [
        "# weekday distribution of SentimentTitle\n",
        "\n",
        "plt.scatter(train['weekday'], train['SentimentTitle'])\n",
        "plt.xlabel('weekday')\n",
        "plt.ylabel('SentimentTitle')"
      ],
      "execution_count": null,
      "outputs": [
        {
          "output_type": "execute_result",
          "data": {
            "text/plain": [
              "Text(0, 0.5, 'SentimentTitle')"
            ]
          },
          "metadata": {
            "tags": []
          },
          "execution_count": 30
        },
        {
          "output_type": "display_data",
          "data": {
            "image/png": "[encoded data removed]",
            "text/plain": [
              "<Figure size 432x288 with 1 Axes>"
            ]
          },
          "metadata": {
            "tags": []
          }
        }
      ]
    },
    {
      "cell_type": "code",
      "metadata": {
        "colab": {
          "base_uri": "https://localhost:8080/",
          "height": 297
        },
        "id": "UsAt8Q5duw0k",
        "outputId": "99b2a5d2-1b26-4537-dcd7-a9984aa1ef38"
      },
      "source": [
        "# weekday distribution of SentimentHeadline\n",
        "\n",
        "plt.scatter(train['weekday'], train['SentimentHeadline'])\n",
        "plt.xlabel('weekday')\n",
        "plt.ylabel('SentimentHeadline')"
      ],
      "execution_count": null,
      "outputs": [
        {
          "output_type": "execute_result",
          "data": {
            "text/plain": [
              "Text(0, 0.5, 'SentimentHeadline')"
            ]
          },
          "metadata": {
            "tags": []
          },
          "execution_count": 31
        },
        {
          "output_type": "display_data",
          "data": {
            "image/png": "[encoded data removed]",
            "text/plain": [
              "<Figure size 432x288 with 1 Axes>"
            ]
          },
          "metadata": {
            "tags": []
          }
        }
      ]
    },
    {
      "cell_type": "code",
      "metadata": {
        "id": "7BPguOKJu11n"
      },
      "source": [
        "# Number of words in the Title \n",
        "train[\"num_words_t\"] = train[\"Text_Title\"].apply(lambda x: len(str(x).split()))\n",
        "test[\"num_words_t\"] = test[\"Text_Title\"].apply(lambda x: len(str(x).split()))\n",
        "\n",
        "# Number of unique words in the Title \n",
        "train[\"num_unique_words_t\"] = train[\"Text_Title\"].apply(lambda x: len(set(str(x).split())))\n",
        "test[\"num_unique_words_t\"] = test[\"Text_Title\"].apply(lambda x: len(set(str(x).split())))\n",
        "\n",
        "# Number of characters in the Title \n",
        "train[\"num_chars_t\"] = train[\"Text_Title\"].apply(lambda x: len(str(x)))\n",
        "test[\"num_chars_t\"] = test[\"Text_Title\"].apply(lambda x: len(str(x)))\n",
        "\n",
        "# Average length of the words in the Title \n",
        "train[\"mean_word_len_t\"] = train[\"Text_Title\"].apply(lambda x: np.mean([len(w) for w in str(x).split()]))\n",
        "test[\"mean_word_len_t\"] = test[\"Text_Title\"].apply(lambda x: np.mean([len(w) for w in str(x).split()]))"
      ],
      "execution_count": null,
      "outputs": []
    },
    {
      "cell_type": "code",
      "metadata": {
        "colab": {
          "base_uri": "https://localhost:8080/"
        },
        "id": "1FZVkThbmkVo",
        "outputId": "8f58023c-f2ec-4895-d7bb-97c08e7b15e2"
      },
      "source": [
        "train[\"num_words_t\"]"
      ],
      "execution_count": null,
      "outputs": [
        {
          "output_type": "execute_result",
          "data": {
            "text/plain": [
              "0         9\n",
              "1         6\n",
              "2         7\n",
              "3         6\n",
              "4        12\n",
              "         ..\n",
              "55927    10\n",
              "55928     9\n",
              "55929    10\n",
              "55930     7\n",
              "55931     6\n",
              "Name: num_words_t, Length: 55932, dtype: int64"
            ]
          },
          "metadata": {
            "tags": []
          },
          "execution_count": 29
        }
      ]
    },
    {
      "cell_type": "code",
      "metadata": {
        "colab": {
          "base_uri": "https://localhost:8080/"
        },
        "id": "qDH9_jT2nyqa",
        "outputId": "6fcdc0d6-999f-4010-d5e8-8b28f5d30859"
      },
      "source": [
        "train[\"num_unique_words_t\"]"
      ],
      "execution_count": null,
      "outputs": [
        {
          "output_type": "execute_result",
          "data": {
            "text/plain": [
              "0         8\n",
              "1         5\n",
              "2         6\n",
              "3         6\n",
              "4        11\n",
              "         ..\n",
              "55927     9\n",
              "55928     8\n",
              "55929     9\n",
              "55930     6\n",
              "55931     5\n",
              "Name: num_unique_words_t, Length: 55932, dtype: int64"
            ]
          },
          "metadata": {
            "tags": []
          },
          "execution_count": 30
        }
      ]
    },
    {
      "cell_type": "code",
      "metadata": {
        "colab": {
          "base_uri": "https://localhost:8080/"
        },
        "id": "U6jCB5Fzp6fz",
        "outputId": "b33bb822-8f1b-4967-ca4e-71c1eac3055d"
      },
      "source": [
        "train[\"mean_word_len_t\"]"
      ],
      "execution_count": null,
      "outputs": [
        {
          "output_type": "execute_result",
          "data": {
            "text/plain": [
              "0        5.888889\n",
              "1        6.666667\n",
              "2        6.714286\n",
              "3        5.166667\n",
              "4        6.166667\n",
              "           ...   \n",
              "55927    5.300000\n",
              "55928    5.888889\n",
              "55929    5.400000\n",
              "55930    7.428571\n",
              "55931    6.666667\n",
              "Name: mean_word_len_t, Length: 55932, dtype: float64"
            ]
          },
          "metadata": {
            "tags": []
          },
          "execution_count": 31
        }
      ]
    },
    {
      "cell_type": "code",
      "metadata": {
        "id": "FJzUWLexu4Nx"
      },
      "source": [
        "# Number of words in the Headline \n",
        "train[\"num_words_h\"] = train[\"Text_Headline\"].apply(lambda x: len(str(x).split()))\n",
        "test[\"num_words_h\"] = test[\"Text_Headline\"].apply(lambda x: len(str(x).split()))\n",
        "\n",
        "# Number of unique words in the Headline \n",
        "train[\"num_unique_words_h\"] = train[\"Text_Headline\"].apply(lambda x: len(set(str(x).split())))\n",
        "test[\"num_unique_words_h\"] = test[\"Text_Headline\"].apply(lambda x: len(set(str(x).split())))\n",
        "\n",
        "# Number of characters in the Headline \n",
        "train[\"num_chars_h\"] = train[\"Text_Headline\"].apply(lambda x: len(str(x)))\n",
        "test[\"num_chars_h\"] = test[\"Text_Headline\"].apply(lambda x: len(str(x)))\n",
        "\n",
        "# Average length of the words in the Headline \n",
        "train[\"mean_word_len_h\"] = train[\"Text_Headline\"].apply(lambda x: np.mean([len(w) for w in str(x).split()]))\n",
        "test[\"mean_word_len_h\"] = test[\"Text_Headline\"].apply(lambda x: np.mean([len(w) for w in str(x).split()]))"
      ],
      "execution_count": null,
      "outputs": []
    },
    {
      "cell_type": "code",
      "metadata": {
        "id": "GbvRb_fnvMMP"
      },
      "source": [
        "scaler = StandardScaler()\n",
        "\n",
        "cols = ['Source', 'Topic', 'Facebook', 'GooglePlus', 'LinkedIn', 'num_words_t', 'num_unique_words_t', 'num_chars_t', 'mean_word_len_t',\n",
        "        'num_words_h', 'num_unique_words_h', 'num_chars_h', 'mean_word_len_h', 'hour', 'weekday']\n",
        "\n",
        "for col in cols:\n",
        "  train[col] = scaler.fit_transform(train[col].values.reshape(-1, 1))\n",
        "  test[col] = scaler.transform(test[col].values.reshape(-1, 1))"
      ],
      "execution_count": null,
      "outputs": []
    },
    {
      "cell_type": "code",
      "metadata": {
        "id": "SSgi8_eKvZ2o"
      },
      "source": [
        "cols_t = ['Source', 'Topic', 'Facebook', 'GooglePlus', 'LinkedIn', 'num_words_t', 'num_unique_words_t', 'num_chars_t', 'mean_word_len_t', 'polarity_t', 'subjectivity_t', 'hour', 'weekday']\n",
        "train_X1 = train[cols_t]\n",
        "test_X1 = test[cols_t]\n",
        "\n",
        "cols_h = ['Source', 'Topic', 'Facebook', 'GooglePlus', 'LinkedIn', 'num_words_h', 'num_unique_words_h', 'num_chars_h', 'mean_word_len_h', 'polarity_h', 'subjectivity_h', 'hour', 'weekday']\n",
        "train_X2 = train[cols_h]\n",
        "test_X2 = test[cols_h]"
      ],
      "execution_count": null,
      "outputs": []
    },
    {
      "cell_type": "code",
      "metadata": {
        "colab": {
          "base_uri": "https://localhost:8080/",
          "height": 204
        },
        "id": "U4b3nuikvkP1",
        "outputId": "8f58c626-7ae7-4f23-de9f-6fb82e594c1d"
      },
      "source": [
        "train_X1.head()"
      ],
      "execution_count": null,
      "outputs": [
        {
          "output_type": "execute_result",
          "data": {
            "text/html": [
              "<div>\n",
              "<style scoped>\n",
              "    .dataframe tbody tr th:only-of-type {\n",
              "        vertical-align: middle;\n",
              "    }\n",
              "\n",
              "    .dataframe tbody tr th {\n",
              "        vertical-align: top;\n",
              "    }\n",
              "\n",
              "    .dataframe thead th {\n",
              "        text-align: right;\n",
              "    }\n",
              "</style>\n",
              "<table border=\"1\" class=\"dataframe\">\n",
              "  <thead>\n",
              "    <tr style=\"text-align: right;\">\n",
              "      <th></th>\n",
              "      <th>Source</th>\n",
              "      <th>Topic</th>\n",
              "      <th>Facebook</th>\n",
              "      <th>GooglePlus</th>\n",
              "      <th>LinkedIn</th>\n",
              "      <th>num_words_t</th>\n",
              "      <th>num_unique_words_t</th>\n",
              "      <th>num_chars_t</th>\n",
              "      <th>mean_word_len_t</th>\n",
              "      <th>polarity_t</th>\n",
              "      <th>subjectivity_t</th>\n",
              "      <th>hour</th>\n",
              "      <th>weekday</th>\n",
              "    </tr>\n",
              "  </thead>\n",
              "  <tbody>\n",
              "    <tr>\n",
              "      <th>0</th>\n",
              "      <td>1.257700</td>\n",
              "      <td>0.841443</td>\n",
              "      <td>-0.184044</td>\n",
              "      <td>-0.262649</td>\n",
              "      <td>-0.199608</td>\n",
              "      <td>-0.25916</td>\n",
              "      <td>-0.304674</td>\n",
              "      <td>-0.572741</td>\n",
              "      <td>-0.612986</td>\n",
              "      <td>0.0</td>\n",
              "      <td>0.0</td>\n",
              "      <td>-1.699073</td>\n",
              "      <td>-0.795924</td>\n",
              "    </tr>\n",
              "    <tr>\n",
              "      <th>1</th>\n",
              "      <td>-1.314091</td>\n",
              "      <td>-1.108773</td>\n",
              "      <td>-0.184044</td>\n",
              "      <td>-0.262649</td>\n",
              "      <td>-0.199608</td>\n",
              "      <td>-1.66871</td>\n",
              "      <td>-1.721687</td>\n",
              "      <td>-1.629606</td>\n",
              "      <td>0.274360</td>\n",
              "      <td>0.0</td>\n",
              "      <td>0.0</td>\n",
              "      <td>-1.699073</td>\n",
              "      <td>1.338369</td>\n",
              "    </tr>\n",
              "    <tr>\n",
              "      <th>2</th>\n",
              "      <td>-1.314091</td>\n",
              "      <td>-1.108773</td>\n",
              "      <td>-0.184044</td>\n",
              "      <td>-0.262649</td>\n",
              "      <td>-0.199608</td>\n",
              "      <td>-1.19886</td>\n",
              "      <td>-1.249349</td>\n",
              "      <td>-1.035120</td>\n",
              "      <td>0.328687</td>\n",
              "      <td>0.0</td>\n",
              "      <td>0.0</td>\n",
              "      <td>-1.699073</td>\n",
              "      <td>1.338369</td>\n",
              "    </tr>\n",
              "    <tr>\n",
              "      <th>3</th>\n",
              "      <td>0.468412</td>\n",
              "      <td>-1.108773</td>\n",
              "      <td>-0.184044</td>\n",
              "      <td>-0.262649</td>\n",
              "      <td>-0.199608</td>\n",
              "      <td>-1.66871</td>\n",
              "      <td>-1.249349</td>\n",
              "      <td>-2.224092</td>\n",
              "      <td>-1.436950</td>\n",
              "      <td>0.0</td>\n",
              "      <td>0.0</td>\n",
              "      <td>-1.699073</td>\n",
              "      <td>1.871942</td>\n",
              "    </tr>\n",
              "    <tr>\n",
              "      <th>4</th>\n",
              "      <td>1.029071</td>\n",
              "      <td>-1.108773</td>\n",
              "      <td>-0.184044</td>\n",
              "      <td>-0.262649</td>\n",
              "      <td>-0.199608</td>\n",
              "      <td>1.15039</td>\n",
              "      <td>1.112340</td>\n",
              "      <td>1.012556</td>\n",
              "      <td>-0.296077</td>\n",
              "      <td>0.0</td>\n",
              "      <td>0.0</td>\n",
              "      <td>-1.699073</td>\n",
              "      <td>1.871942</td>\n",
              "    </tr>\n",
              "  </tbody>\n",
              "</table>\n",
              "</div>"
            ],
            "text/plain": [
              "     Source     Topic  Facebook  ...  subjectivity_t      hour   weekday\n",
              "0  1.257700  0.841443 -0.184044  ...             0.0 -1.699073 -0.795924\n",
              "1 -1.314091 -1.108773 -0.184044  ...             0.0 -1.699073  1.338369\n",
              "2 -1.314091 -1.108773 -0.184044  ...             0.0 -1.699073  1.338369\n",
              "3  0.468412 -1.108773 -0.184044  ...             0.0 -1.699073  1.871942\n",
              "4  1.029071 -1.108773 -0.184044  ...             0.0 -1.699073  1.871942\n",
              "\n",
              "[5 rows x 13 columns]"
            ]
          },
          "metadata": {
            "tags": []
          },
          "execution_count": 25
        }
      ]
    },
    {
      "cell_type": "code",
      "metadata": {
        "colab": {
          "base_uri": "https://localhost:8080/"
        },
        "id": "uorlqJ1s0Bex",
        "outputId": "1c9eecab-df47-4407-b009-12fca05dd16e"
      },
      "source": [
        "train_X1.values"
      ],
      "execution_count": null,
      "outputs": [
        {
          "output_type": "execute_result",
          "data": {
            "text/plain": [
              "array([[ 1.25769976,  0.8414431 , -0.18404448, ...,  0.        ,\n",
              "        -1.69907332, -0.79592395],\n",
              "       [-1.31409102, -1.10877322, -0.18404448, ...,  0.        ,\n",
              "        -1.69907332,  1.33836912],\n",
              "       [-1.31409102, -1.10877322, -0.18404448, ...,  0.        ,\n",
              "        -1.69907332,  1.33836912],\n",
              "       ...,\n",
              "       [-0.45701891,  0.8414431 , -0.04156771, ...,  0.66666667,\n",
              "        -1.55539697, -0.79592395],\n",
              "       [ 0.79239922, -0.13366506, -0.18266121, ...,  1.        ,\n",
              "        -1.55539697, -0.79592395],\n",
              "       [ 1.48001002, -1.10877322, -0.07891599, ...,  0.        ,\n",
              "        -1.55539697, -0.79592395]])"
            ]
          },
          "metadata": {
            "tags": []
          },
          "execution_count": 21
        }
      ]
    },
    {
      "cell_type": "code",
      "metadata": {
        "colab": {
          "base_uri": "https://localhost:8080/",
          "height": 194
        },
        "id": "c7JXC4Dtvoyq",
        "outputId": "16391bf4-6799-4725-f6f6-fdd3ee4c1e81"
      },
      "source": [
        "train_X2.head()"
      ],
      "execution_count": null,
      "outputs": [
        {
          "output_type": "execute_result",
          "data": {
            "text/html": [
              "<div>\n",
              "<style scoped>\n",
              "    .dataframe tbody tr th:only-of-type {\n",
              "        vertical-align: middle;\n",
              "    }\n",
              "\n",
              "    .dataframe tbody tr th {\n",
              "        vertical-align: top;\n",
              "    }\n",
              "\n",
              "    .dataframe thead th {\n",
              "        text-align: right;\n",
              "    }\n",
              "</style>\n",
              "<table border=\"1\" class=\"dataframe\">\n",
              "  <thead>\n",
              "    <tr style=\"text-align: right;\">\n",
              "      <th></th>\n",
              "      <th>Source</th>\n",
              "      <th>Topic</th>\n",
              "      <th>Facebook</th>\n",
              "      <th>GooglePlus</th>\n",
              "      <th>LinkedIn</th>\n",
              "      <th>num_words_h</th>\n",
              "      <th>num_unique_words_h</th>\n",
              "      <th>num_chars_h</th>\n",
              "      <th>mean_word_len_h</th>\n",
              "      <th>polarity_h</th>\n",
              "      <th>subjectivity_h</th>\n",
              "      <th>hour</th>\n",
              "      <th>weekday</th>\n",
              "    </tr>\n",
              "  </thead>\n",
              "  <tbody>\n",
              "    <tr>\n",
              "      <th>0</th>\n",
              "      <td>1.257700</td>\n",
              "      <td>0.841443</td>\n",
              "      <td>-0.184044</td>\n",
              "      <td>-0.262649</td>\n",
              "      <td>-0.199608</td>\n",
              "      <td>-0.285960</td>\n",
              "      <td>-0.526779</td>\n",
              "      <td>-0.490565</td>\n",
              "      <td>-1.058634</td>\n",
              "      <td>0.000000</td>\n",
              "      <td>0.000000</td>\n",
              "      <td>-1.699073</td>\n",
              "      <td>-0.795924</td>\n",
              "    </tr>\n",
              "    <tr>\n",
              "      <th>1</th>\n",
              "      <td>-1.314091</td>\n",
              "      <td>-1.108773</td>\n",
              "      <td>-0.184044</td>\n",
              "      <td>-0.262649</td>\n",
              "      <td>-0.199608</td>\n",
              "      <td>-0.285960</td>\n",
              "      <td>-0.232528</td>\n",
              "      <td>-0.317704</td>\n",
              "      <td>-0.175984</td>\n",
              "      <td>0.100000</td>\n",
              "      <td>0.200000</td>\n",
              "      <td>-1.699073</td>\n",
              "      <td>1.338369</td>\n",
              "    </tr>\n",
              "    <tr>\n",
              "      <th>2</th>\n",
              "      <td>-1.314091</td>\n",
              "      <td>-1.108773</td>\n",
              "      <td>-0.184044</td>\n",
              "      <td>-0.262649</td>\n",
              "      <td>-0.199608</td>\n",
              "      <td>-0.413322</td>\n",
              "      <td>-0.673904</td>\n",
              "      <td>-0.300418</td>\n",
              "      <td>0.618402</td>\n",
              "      <td>0.000000</td>\n",
              "      <td>0.041667</td>\n",
              "      <td>-1.699073</td>\n",
              "      <td>1.338369</td>\n",
              "    </tr>\n",
              "    <tr>\n",
              "      <th>3</th>\n",
              "      <td>0.468412</td>\n",
              "      <td>-1.108773</td>\n",
              "      <td>-0.184044</td>\n",
              "      <td>-0.262649</td>\n",
              "      <td>-0.199608</td>\n",
              "      <td>0.096128</td>\n",
              "      <td>0.061723</td>\n",
              "      <td>0.304596</td>\n",
              "      <td>0.843478</td>\n",
              "      <td>-0.166667</td>\n",
              "      <td>0.166667</td>\n",
              "      <td>-1.699073</td>\n",
              "      <td>1.871942</td>\n",
              "    </tr>\n",
              "    <tr>\n",
              "      <th>4</th>\n",
              "      <td>1.029071</td>\n",
              "      <td>-1.108773</td>\n",
              "      <td>-0.184044</td>\n",
              "      <td>-0.262649</td>\n",
              "      <td>-0.199608</td>\n",
              "      <td>0.223490</td>\n",
              "      <td>0.208849</td>\n",
              "      <td>0.391026</td>\n",
              "      <td>0.618402</td>\n",
              "      <td>0.133333</td>\n",
              "      <td>0.380556</td>\n",
              "      <td>-1.699073</td>\n",
              "      <td>1.871942</td>\n",
              "    </tr>\n",
              "  </tbody>\n",
              "</table>\n",
              "</div>"
            ],
            "text/plain": [
              "     Source     Topic  Facebook  ...  subjectivity_h      hour   weekday\n",
              "0  1.257700  0.841443 -0.184044  ...        0.000000 -1.699073 -0.795924\n",
              "1 -1.314091 -1.108773 -0.184044  ...        0.200000 -1.699073  1.338369\n",
              "2 -1.314091 -1.108773 -0.184044  ...        0.041667 -1.699073  1.338369\n",
              "3  0.468412 -1.108773 -0.184044  ...        0.166667 -1.699073  1.871942\n",
              "4  1.029071 -1.108773 -0.184044  ...        0.380556 -1.699073  1.871942\n",
              "\n",
              "[5 rows x 13 columns]"
            ]
          },
          "metadata": {
            "tags": []
          },
          "execution_count": 37
        }
      ]
    },
    {
      "cell_type": "code",
      "metadata": {
        "colab": {
          "base_uri": "https://localhost:8080/"
        },
        "id": "ylxg4QzRvuYU",
        "outputId": "ba4c033f-b8bb-429d-b95f-65c75a93f845"
      },
      "source": [
        "print(np.shape(train_X1))\n",
        "print(np.shape(test_X1))"
      ],
      "execution_count": null,
      "outputs": [
        {
          "output_type": "stream",
          "text": [
            "(55932, 13)\n",
            "(37288, 13)\n"
          ],
          "name": "stdout"
        }
      ]
    },
    {
      "cell_type": "code",
      "metadata": {
        "colab": {
          "base_uri": "https://localhost:8080/"
        },
        "id": "j9OXiF0JvzCU",
        "outputId": "9ac03912-8bd3-443c-b76e-27fb082d1d7e"
      },
      "source": [
        "print(np.shape(train_X2))\n",
        "print(np.shape(test_X2))"
      ],
      "execution_count": null,
      "outputs": [
        {
          "output_type": "stream",
          "text": [
            "(55932, 13)\n",
            "(37288, 13)\n"
          ],
          "name": "stdout"
        }
      ]
    },
    {
      "cell_type": "code",
      "metadata": {
        "colab": {
          "base_uri": "https://localhost:8080/"
        },
        "id": "UjVv3DYUwbL6",
        "outputId": "9554ce99-3b17-4a20-ae34-48619a67eb47"
      },
      "source": [
        "print(np.shape(train_v_Title))\n",
        "print(np.shape(test_v_Title))"
      ],
      "execution_count": null,
      "outputs": [
        {
          "output_type": "stream",
          "text": [
            "(55932, 25377)\n",
            "(37288, 25377)\n"
          ],
          "name": "stdout"
        }
      ]
    },
    {
      "cell_type": "code",
      "metadata": {
        "colab": {
          "base_uri": "https://localhost:8080/"
        },
        "id": "D_XC82-ZwgJL",
        "outputId": "167a01b0-8b01-4a14-d83f-595036055a2e"
      },
      "source": [
        "print(np.shape(train_v_Headline))\n",
        "print(np.shape(test_v_Headline))"
      ],
      "execution_count": null,
      "outputs": [
        {
          "output_type": "stream",
          "text": [
            "(55932, 38787)\n",
            "(37288, 38787)\n"
          ],
          "name": "stdout"
        }
      ]
    },
    {
      "cell_type": "code",
      "metadata": {
        "id": "6tzy_au7wl9y"
      },
      "source": [
        "train_X_Title = hstack([train_v_Title, csr_matrix(train_X1.values)])\n",
        "test_X_Title = hstack([test_v_Title, csr_matrix(test_X1.values)])\n",
        "y1 = train['SentimentTitle']\n",
        "\n",
        "train_X_Headline = hstack([train_v_Headline, csr_matrix(train_X2.values)])\n",
        "test_X_Headline = hstack([test_v_Headline, csr_matrix(test_X2.values)])\n",
        "y2 = train['SentimentHeadline']"
      ],
      "execution_count": null,
      "outputs": []
    },
    {
      "cell_type": "code",
      "metadata": {
        "colab": {
          "base_uri": "https://localhost:8080/"
        },
        "id": "gTYyEh-D1-wH",
        "outputId": "12f03941-d268-4396-acfd-21798d035953"
      },
      "source": [
        "train_X_Title.toarray()"
      ],
      "execution_count": null,
      "outputs": [
        {
          "output_type": "execute_result",
          "data": {
            "text/plain": [
              "array([[ 0.        ,  0.        ,  0.        , ...,  0.        ,\n",
              "        -1.69907332, -0.79592395],\n",
              "       [ 0.        ,  0.        ,  0.        , ...,  0.        ,\n",
              "        -1.69907332,  1.33836912],\n",
              "       [ 0.        ,  0.        ,  0.        , ...,  0.        ,\n",
              "        -1.69907332,  1.33836912],\n",
              "       ...,\n",
              "       [ 0.        ,  0.        ,  0.        , ...,  0.66666667,\n",
              "        -1.55539697, -0.79592395],\n",
              "       [ 0.        ,  0.        ,  0.        , ...,  1.        ,\n",
              "        -1.55539697, -0.79592395],\n",
              "       [ 0.        ,  0.        ,  0.        , ...,  0.        ,\n",
              "        -1.55539697, -0.79592395]])"
            ]
          },
          "metadata": {
            "tags": []
          },
          "execution_count": 23
        }
      ]
    },
    {
      "cell_type": "code",
      "metadata": {
        "colab": {
          "base_uri": "https://localhost:8080/"
        },
        "id": "eH7bxFRFwrGO",
        "outputId": "1133cfce-30ed-4962-ce5b-1b835041814f"
      },
      "source": [
        "np.shape(train_X_Title)"
      ],
      "execution_count": null,
      "outputs": [
        {
          "output_type": "execute_result",
          "data": {
            "text/plain": [
              "(55932, 25390)"
            ]
          },
          "metadata": {
            "tags": []
          },
          "execution_count": 43
        }
      ]
    },
    {
      "cell_type": "code",
      "metadata": {
        "colab": {
          "base_uri": "https://localhost:8080/"
        },
        "id": "lXTCXtBww3Mm",
        "outputId": "05494588-8c80-48f6-948f-ceb9d0a804c5"
      },
      "source": [
        "# LinearSVR model for SentimentTitle\n",
        "\n",
        "X_train, X_test, y_train, y_test = train_test_split(train_X_Title, y1, test_size=0.20, random_state=42)\n",
        "\n",
        "clf1 = LinearSVR(C=0.2)\n",
        "clf1.fit(X_train, y_train)\n",
        "\n",
        "y_pred1 = clf1.predict(X_test)\n",
        "mae1 = mean_absolute_error(y_pred1, y_test)\n",
        "\n",
        "print('MAE:', mae1)"
      ],
      "execution_count": null,
      "outputs": [
        {
          "output_type": "stream",
          "text": [
            "MAE: 0.056673158447237\n"
          ],
          "name": "stdout"
        },
        {
          "output_type": "stream",
          "text": [
            "/usr/local/lib/python3.7/dist-packages/sklearn/svm/_base.py:947: ConvergenceWarning: Liblinear failed to converge, increase the number of iterations.\n",
            "  \"the number of iterations.\", ConvergenceWarning)\n"
          ],
          "name": "stderr"
        }
      ]
    },
    {
      "cell_type": "code",
      "metadata": {
        "colab": {
          "base_uri": "https://localhost:8080/"
        },
        "id": "pk5UTfsTyArA",
        "outputId": "a34f92a2-fb64-4c88-ecde-87f3e985a011"
      },
      "source": [
        "# LinearSVR model for SentimentHeadline\n",
        "\n",
        "X_train, X_test, y_train, y_test = train_test_split(train_X_Headline, y2, test_size=0.20, random_state=42)\n",
        "\n",
        "clf2 = LinearSVR(C=0.2)\n",
        "clf2.fit(X_train, y_train)\n",
        "\n",
        "y_pred2 = clf2.predict(X_test)\n",
        "mae2 = mean_absolute_error(y_pred2, y_test)\n",
        "\n",
        "print('MAE:',  mae2)"
      ],
      "execution_count": null,
      "outputs": [
        {
          "output_type": "stream",
          "text": [
            "MAE: 0.07092543483783398\n"
          ],
          "name": "stdout"
        },
        {
          "output_type": "stream",
          "text": [
            "/usr/local/lib/python3.7/dist-packages/sklearn/svm/_base.py:947: ConvergenceWarning: Liblinear failed to converge, increase the number of iterations.\n",
            "  \"the number of iterations.\", ConvergenceWarning)\n"
          ],
          "name": "stderr"
        }
      ]
    },
    {
      "cell_type": "code",
      "metadata": {
        "id": "JIwG50tF6PA3"
      },
      "source": [
        "title = clf1.predict(test_X_Title)\n",
        "headline = clf2.predict(test_X_Headline)"
      ],
      "execution_count": null,
      "outputs": []
    },
    {
      "cell_type": "code",
      "metadata": {
        "id": "LK5oYfNMBxuu"
      },
      "source": [
        "df = pd.DataFrame()\n",
        "df['IDLink'] = test_id\n",
        "df['SentimentTitle'] = title\n",
        "df['SentimentHeadline'] = headline\n",
        "df.to_csv('/content/drive/MyDrive/Colab Notebooks/ SA/SUBMIT.csv', index=False)"
      ],
      "execution_count": null,
      "outputs": []
    },
    {
      "cell_type": "code",
      "metadata": {
        "id": "pql5MRenFcwF"
      },
      "source": [
        "import pickle\n",
        "# open a file, where you ant to store the data\n",
        "file = open('LinearSVR_model.pkl', 'wb')\n",
        "\n",
        "# dump information to that file\n",
        "pickle.dump(clf2, file)"
      ],
      "execution_count": null,
      "outputs": []
    }
  ]
}